{
 "cells": [
  {
   "cell_type": "markdown",
   "id": "693a0f65",
   "metadata": {},
   "source": [
    "# Web scraping"
   ]
  },
  {
   "cell_type": "markdown",
   "id": "76e12239",
   "metadata": {},
   "source": [
    "Las casas que se van a scrapear: \n",
    "\n",
    "+ Sotherbys: 'https://www.sothebys.com/en/buy/auction/2022/contemporary-discoveries-4?locale=en', 'https://www.sothebys.com/en/results?from=&to=&f2=00000164-609b-d1db-a5e6-e9ff01230000&f2=00000164-609b-d1db-a5e6-e9ff08ab0000&f2=00000164-609b-d1db-a5e6-e9ff0b150000&f2=00000164-609a-d1db-a5e6-e9fff79f0000&f2=00000164-609b-d1db-a5e6-e9ff043c0000&f2=00000164-609a-d1db-a5e6-e9fffe5f0000&f2=00000164-609a-d1db-a5e6-e9fffdf80000&f2=00000164-609b-d1db-a5e6-e9ff0a800000&f2=00000164-609b-d1db-a5e6-e9ff06270000&f2=00000164-609a-d1db-a5e6-e9fff8660000&f2=00000164-609b-d1db-a5e6-e9ff08440000&f2=00000164-609b-d1db-a5e6-e9ff0ba60000&f2=00000164-609b-d1db-a5e6-e9ff07840000&f2=00000164-609a-d1db-a5e6-e9fff4280000&f2=00000164-609a-d1db-a5e6-e9ffff270000&f2=00000164-609b-d1db-a5e6-e9ff07220000&f2=00000164-609b-d1db-a5e6-e9ff09100000&f2=00000164-609b-d1db-a5e6-e9ff07e20000&f2=00000164-609a-d1db-a5e6-e9fffadc0000&f2=00000164-609a-d1db-a5e6-e9fff73c0000&f2=00000164-609b-d1db-a5e6-e9ff09a60000&f2=00000164-609b-d1db-a5e6-e9ff095e0000&q='\n",
    "+ Phillips: 'https://www.phillips.com/auctions/past/filter/Departments%3DContemporary!Photographs!Online/sort/newest'\n",
    "+ Christies: 'https://www.christies.com/en/results?filters=|category_7|category_11|'\n",
    "+ China guardian: 'https://www.cguardian.com.hk/en/auction/auction-list.php?id=193&auction=result&currency=eur#list'\n",
    "+ Heritage Auctions:\n",
    "+ Beijin poly international: \n",
    "    "
   ]
  },
  {
   "cell_type": "code",
   "execution_count": 70,
   "id": "19f3a2e1",
   "metadata": {},
   "outputs": [],
   "source": [
    "#importar librerías\n",
    "import pandas as pd\n",
    "import requests as req\n",
    "from bs4 import BeautifulSoup as bs"
   ]
  },
  {
   "cell_type": "code",
   "execution_count": 71,
   "id": "dfef7e38",
   "metadata": {},
   "outputs": [],
   "source": [
    "from tqdm.notebook import tqdm_notebook\n",
    "import time\n",
    "import json\n",
    "from selenium import webdriver"
   ]
  },
  {
   "cell_type": "code",
   "execution_count": 72,
   "id": "dd7bda4a",
   "metadata": {},
   "outputs": [],
   "source": [
    "import warnings\n",
    "warnings.filterwarnings('ignore')"
   ]
  },
  {
   "cell_type": "code",
   "execution_count": null,
   "id": "b2937f33",
   "metadata": {},
   "outputs": [],
   "source": []
  },
  {
   "cell_type": "markdown",
   "id": "1102bcfb",
   "metadata": {},
   "source": [
    "## ✨ Sotherbys ✨"
   ]
  },
  {
   "cell_type": "code",
   "execution_count": 73,
   "id": "4618d1c3",
   "metadata": {},
   "outputs": [
    {
     "name": "stdout",
     "output_type": "stream",
     "text": [
      "\n"
     ]
    },
    {
     "name": "stderr",
     "output_type": "stream",
     "text": [
      "[WDM] - ====== WebDriver manager ======\n",
      "[WDM] - Current google-chrome version is 103.0.5060\n",
      "[WDM] - Get LATEST chromedriver version for 103.0.5060 google-chrome\n",
      "[WDM] - Driver [/Users/lucia/.wdm/drivers/chromedriver/mac64/103.0.5060.134/chromedriver] found in cache\n"
     ]
    }
   ],
   "source": [
    "#from webdriver_manager.chrome import ChromeDriverManager\n",
    "\n",
    "PATH_S=ChromeDriverManager().install()   #Path de Sotherbys\n",
    "\n",
    "webdriver.Chrome(PATH_S).get('https://www.sothebys.com/en/results?from=&to=&f2=00000164-609b-d1db-a5e6-e9ff01230000&f2=00000164-609b-d1db-a5e6-e9ff08ab0000&f2=00000164-609b-d1db-a5e6-e9ff0b150000&f2=00000164-609a-d1db-a5e6-e9fff79f0000&f2=00000164-609b-d1db-a5e6-e9ff043c0000&f2=00000164-609a-d1db-a5e6-e9fffe5f0000&f2=00000164-609a-d1db-a5e6-e9fffdf80000&f2=00000164-609b-d1db-a5e6-e9ff0a800000&f2=00000164-609b-d1db-a5e6-e9ff06270000&f2=00000164-609a-d1db-a5e6-e9fff8660000&f2=00000164-609b-d1db-a5e6-e9ff08440000&f2=00000164-609b-d1db-a5e6-e9ff0ba60000&f2=00000164-609b-d1db-a5e6-e9ff07840000&f2=00000164-609a-d1db-a5e6-e9fff4280000&f2=00000164-609a-d1db-a5e6-e9ffff270000&f2=00000164-609b-d1db-a5e6-e9ff07220000&f2=00000164-609b-d1db-a5e6-e9ff09100000&f2=00000164-609b-d1db-a5e6-e9ff07e20000&f2=00000164-609a-d1db-a5e6-e9fffadc0000&f2=00000164-609a-d1db-a5e6-e9fff73c0000&f2=00000164-609b-d1db-a5e6-e9ff09a60000&f2=00000164-609b-d1db-a5e6-e9ff095e0000&q=')"
   ]
  },
  {
   "cell_type": "code",
   "execution_count": 74,
   "id": "bac88830",
   "metadata": {},
   "outputs": [],
   "source": [
    "from selenium.webdriver.chrome.options import Options\n",
    "opciones=Options()\n",
    "opciones.add_experimental_option('excludeSwitches', ['enable-automation'])\n",
    "opciones.add_experimental_option('useAutomationExtension', False)\n",
    "\n",
    "opciones.add_argument('user-data-dir=selenium')"
   ]
  },
  {
   "cell_type": "code",
   "execution_count": 75,
   "id": "40dfdba7",
   "metadata": {},
   "outputs": [],
   "source": [
    "url_s = 'https://www.sothebys.com/en/results?from=&to=&f2=00000164-609b-d1db-a5e6-e9ff01230000&f2=00000164-609b-d1db-a5e6-e9ff08ab0000&f2=00000164-609b-d1db-a5e6-e9ff0b150000&f2=00000164-609a-d1db-a5e6-e9fff79f0000&f2=00000164-609b-d1db-a5e6-e9ff043c0000&f2=00000164-609a-d1db-a5e6-e9fffe5f0000&f2=00000164-609a-d1db-a5e6-e9fffdf80000&f2=00000164-609b-d1db-a5e6-e9ff0a800000&f2=00000164-609b-d1db-a5e6-e9ff06270000&f2=00000164-609a-d1db-a5e6-e9fff8660000&f2=00000164-609b-d1db-a5e6-e9ff08440000&f2=00000164-609b-d1db-a5e6-e9ff0ba60000&f2=00000164-609b-d1db-a5e6-e9ff07840000&f2=00000164-609a-d1db-a5e6-e9fff4280000&f2=00000164-609a-d1db-a5e6-e9ffff270000&f2=00000164-609b-d1db-a5e6-e9ff07220000&f2=00000164-609b-d1db-a5e6-e9ff09100000&f2=00000164-609b-d1db-a5e6-e9ff07e20000&f2=00000164-609a-d1db-a5e6-e9fffadc0000&f2=00000164-609a-d1db-a5e6-e9fff73c0000&f2=00000164-609b-d1db-a5e6-e9ff09a60000&f2=00000164-609b-d1db-a5e6-e9ff095e0000&q='\n",
    "\n",
    "\n"
   ]
  },
  {
   "cell_type": "code",
   "execution_count": 76,
   "id": "2cbfc0b4",
   "metadata": {},
   "outputs": [],
   "source": [
    "driver=webdriver.Chrome(PATH)\n",
    "driver.get(url_s)"
   ]
  },
  {
   "cell_type": "code",
   "execution_count": 77,
   "id": "b65e1754",
   "metadata": {},
   "outputs": [
    {
     "name": "stdout",
     "output_type": "stream",
     "text": [
      "scroll número: 1 \n",
      "scroll número: 2 \n",
      "scroll número: 3 \n"
     ]
    }
   ],
   "source": [
    "categorias = []\n",
    "n_scrolls = 3\n",
    "\n",
    "for i in range(n_scrolls):\n",
    "    \n",
    "    driver.execute_script('window.scrollTo(0, document.body.scrollHeight);')   #Esto hace SCROLL. Puede tardar unos 6'\n",
    "    time.sleep(2)\n",
    "\n",
    "    print(f'scroll número: {i+1}' )"
   ]
  },
  {
   "cell_type": "code",
   "execution_count": null,
   "id": "ec0dfcbe",
   "metadata": {},
   "outputs": [],
   "source": []
  },
  {
   "cell_type": "code",
   "execution_count": null,
   "id": "6f9ea216",
   "metadata": {},
   "outputs": [],
   "source": []
  },
  {
   "cell_type": "code",
   "execution_count": null,
   "id": "49de2628",
   "metadata": {},
   "outputs": [],
   "source": []
  }
 ],
 "metadata": {
  "kernelspec": {
   "display_name": "Python 3 (ipykernel)",
   "language": "python",
   "name": "python3"
  },
  "language_info": {
   "codemirror_mode": {
    "name": "ipython",
    "version": 3
   },
   "file_extension": ".py",
   "mimetype": "text/x-python",
   "name": "python",
   "nbconvert_exporter": "python",
   "pygments_lexer": "ipython3",
   "version": "3.9.7"
  }
 },
 "nbformat": 4,
 "nbformat_minor": 5
}
